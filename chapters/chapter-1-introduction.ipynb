{
 "cells": [
  {
   "cell_type": "markdown",
   "metadata": {},
   "source": [
    "# Understanding Deep Learning  \n",
    "## Chapter 1 - Introduction\n",
    "\n",
    "---"
   ]
  },
  {
   "cell_type": "markdown",
   "metadata": {},
   "source": [
    "### Introduction\n",
    "- **Artificial Intelligence** = System that simulates intelligent behavior\n",
    "- **Machine Learning** = System that simulates intelligent behavior (decisions) by fitting mathematical models to observed data  \n",
    "*Simplified to...*\n",
    "- **Machine Learning** = Mathematical Models + Observed Data\n",
    "- **Deep Neural Network** = Type of machine learning model\n",
    "- **Deep Neural Network** + Data = Deep Learning\n",
    "- Machine Learning has 3 learning areas: Supervised, Unsupervised, Reinforcement\n",
    "\n",
    "*Therefore...*\n",
    "\n",
    "- Artifical Intelligence\n",
    "    - Machine Learning\n",
    "        - Model Types\n",
    "            - Deep Neural Network\n",
    "        - Learning Areas\n",
    "            - Supervised\n",
    "            - Unsupervised\n",
    "            - Reinforcement"
   ]
  },
  {
   "cell_type": "markdown",
   "metadata": {},
   "source": [
    "### 1.1 Supervised Learning\n",
    "> Supervised learning models define a mapping from input data to an output prediction."
   ]
  },
  {
   "cell_type": "markdown",
   "metadata": {},
   "source": [
    "#### 1.1.1 Regression and classification problems\n",
    "- **Meaningful real-world input** *-encodes_to->* **Vector of numbers**\n",
    "- **Vector** *-inputs_to->* **Model**\n",
    "- **Model** *-outputs->* **Output Vector**\n",
    "- **Output Vector** *-translates_to->* **Meaningful real-world output**\n",
    "##### Regression\n",
    "*Regression* problems return a single number.\n",
    "- **6000 square feet, 4 bedroom house, previously sold for $235k in 2005, 1 parking spot** *-encodes_to->* **[600, 4, 235, 2005, 1]**\n",
    "- **[600, 4, 235, 2005, 1]** *-inputs_to->* **Model**\n",
    "- **Model** *-outputs->* **[340]**\n",
    "- **Output Vector** *-translates_to->* **Predicted price: $340k**  \n",
    "\n",
    "*Multivariate regression* problems return more than one number.\n",
    "\n",
    "##### Classification\n",
    "- Binary classification problems assign an input to *N* = 2 categories.\n",
    "    - Example: Classifying a food review as positive or negative\n",
    "- Multiclass classification problems assign and input to *N* > 2 categories.\n",
    "    - Example: Classifying a song as belonging to a genre out of *N* genres"
   ]
  },
  {
   "cell_type": "markdown",
   "metadata": {},
   "source": [
    "#### 1.1.2 Inputs\n",
    "**Tabular Data** has no internal structure. The housing data in the above section is an example of this. However, some inputs do have structure so the order of the encoded vector matters. For example, when classifying a restaurant review, the order of the words in the review text is tied to the text's overall meaning."
   ]
  },
  {
   "cell_type": "markdown",
   "metadata": {},
   "source": [
    "#### 1.1.3 Machine Learning Models\n",
    "What's inside of a model?\n",
    " \n",
    "**Example**: A model that takes an input of age and outputs the predicted height of a human\n",
    "\n",
    "Inside the model is a family of equations that output a curve. The point where the input touches or gets close to that curve is what determines the output.\n",
    "\n",
    "<div>\n",
    "    <img src=\"../images/age-height-function.png\" width=\"700\"/>\n",
    "</div>\n",
    "\n",
    "\n",
    "The math used to generate the curve in this graph is called non-linear regression. The magic of the model is that it figures out what math it needs to use to capture the relationships between the data."
   ]
  },
  {
   "cell_type": "markdown",
   "metadata": {},
   "source": [
    "#### 1.1.4 Deep Neural Networks\n",
    "- Deep Neural Networks are a type of machine learning model.\n",
    "- Deep Neural Networks are families of equations that represent relationships between inputs and outputs.\n",
    "- Deep Neural Network outputs:\n",
    "    - Regression = single real number\n",
    "    - Multivariate regression = multiple numbers\n",
    "    - Binary classification = probability over two classes\n",
    "    - Multiclass classification = probability over more than two classes"
   ]
  },
  {
   "cell_type": "markdown",
   "metadata": {},
   "source": [
    "#### 1.1.5 Structured outputs\n",
    "Some models have outputs that are closely structured to their inputs.\n",
    "\n",
    "Example: An image classification model that differentiates between a cow and an image background. The model encodes every pixel with RGB values as an input. The output is the probability, for each pixel, that it is either a cow or an image background.\n",
    "\n",
    "The 0 or 1 values of the probabilistic output are then transformed into an image where every pixel is either black or teal.\n",
    "\n",
    "<div>\n",
    "    <img src=\"../images/cow-classifier.png\" width=\"700\"/>\n",
    "</div>\n",
    "\n",
    "Some model outputs are not closely structured to their inputs.\n",
    "\n",
    "Example: An audio-to-text model that takes an input of an audio waveform and outputs words. There is much more waveform input data than there is text output data.\n",
    "\n",
    "<div>\n",
    "    <img src=\"../images/audio-to-text.png\" width=\"700\"/>\n",
    "</div>\n",
    "\n",
    "---"
   ]
  },
  {
   "cell_type": "markdown",
   "metadata": {},
   "source": [
    "### 1.2 Unsupervised learning\n",
    "> Constructing a model from input data without corresponding output labels is termed unsupervised learning."
   ]
  },
  {
   "cell_type": "markdown",
   "metadata": {},
   "source": [
    "#### 1.2.1 Generative models\n",
    "- Generative unsupervised models can synthesize new data examples that are indistinguishable from their training data.\n",
    "    - Example: An AI art model that trains on human art and then makes art of its own in the same style.\n",
    "    - The art it makes has never existed before but its style is indistinguishable from art that already existed.\n",
    "- When a model completes a fragment of text, it generates what comes next based on what its training data indicates probably comes next. Not on what it has reasoned to like a human does.\n",
    "    - Because it has access to so many examples of texts written by humans, it has a lot of data to draw on to make a really believable guess at what words it should generate."
   ]
  },
  {
   "cell_type": "markdown",
   "metadata": {},
   "source": [
    "#### 1.2.2 Latent variables\n",
    "- It turns out, the number of understandable arrangements of words into sentences is way lower than the number of all possible arrangements of words into sentences.\n",
    "- If you used a random sentence scrambler, it would be very rare for the scrambler to output a sentence that makes sense.\n",
    "- That smaller number of meaningful data is called *latent variables*.\n",
    "- Some deep learning models will focus on mapping between these latent variables and the data, which gives them a smaller probability distribution to use in producing something believable or accurate."
   ]
  },
  {
   "cell_type": "markdown",
   "metadata": {},
   "source": [
    "#### 1.2.3 Connecting Supervised and Unsupervised Learning"
   ]
  }
 ],
 "metadata": {
  "kernelspec": {
   "display_name": "Python 3",
   "language": "python",
   "name": "python3"
  },
  "language_info": {
   "codemirror_mode": {
    "name": "ipython",
    "version": 3
   },
   "file_extension": ".py",
   "mimetype": "text/x-python",
   "name": "python",
   "nbconvert_exporter": "python",
   "pygments_lexer": "ipython3",
   "version": "3.10.6"
  }
 },
 "nbformat": 4,
 "nbformat_minor": 2
}
