{
 "cells": [
  {
   "cell_type": "markdown",
   "metadata": {},
   "source": [
    "# Understanding Deep Learning  \n",
    "## Chapter 2 - Supervised Learning\n",
    "---"
   ]
  },
  {
   "cell_type": "markdown",
   "metadata": {},
   "source": [
    "> A **supervised learning** model defines a mapping from one or more inputs to one or more outputs.\n",
    "\n",
    "Example:\n",
    "- Input = car_year, car_mileage\n",
    "- Output = car_value\n",
    "\n",
    "car_mileage and car_year are variables in an equation that produces car_value\n",
    "\n",
    "**Inference** is the model's process of computing an output based on input.\n",
    "\n",
    "> The model equation describes a family of possible relationships between inputs and outputs, and the **parameters** specify the particular relationship.\n",
    "\n",
    "Parameters are the formalization of latent variables.\n",
    "\n",
    "Parameters are the values within a model that are adjusted during training to make the model's output as accurate as possible, based on the input data it receives.\n",
    "\n",
    "Example:\n",
    "- I'm a model whose job is to figure out if a picture I'm looking at is a landscape or not. My input is a bunch of pictures that someone told me are landscapes. From observing these pictures, I figure out that grass tends to be green. I assign a RGB spectrum to grass and check new pictures to see if they are in this spectrum. The RGB spectrum of grass is just one of my many parameters that I use to decide if I see grass when evaluating whether the picture is a landscape.\n",
    "\n",
    "**Training** a model is the process of the model discovering parameters that describe the true relationship between its inputs and outputs.\n",
    "\n",
    "> A learning algorithm takes a training set of input/output pairs and manipulates the parameters until the inputs predict their corresponding outputs as closely as possible."
   ]
  },
  {
   "cell_type": "markdown",
   "metadata": {},
   "source": [
    "### 2.1 Supervised learning overview\n",
    "Working with the example of a Toyota Prius price based on year and mileage:\n",
    "- Our input, which we will call x, is a vector or list of numbers that describe the year and mileage of our Prius.\n",
    "- Our output, which we call y, is a vector or list of numbers that predict the value of our Prius. Lists can sometimes just contain one item like in the case of our Prius.\n",
    "- This is structured or tabular data because our vector is always in the same order and has the same number of elements in it. Supervised models need this level of consistency.\n",
    "\n",
    "Our supervised learning model is an equation. In the following equation, *f* represents our model. *f* also popularly stands for *function* in mathematics:\n",
    "\n",
    "$y=f[x]$  \n",
    "output = our model transforming some input\n",
    "\n",
    "*Inference* is the process of the model computing *y*.\n",
    "\n"
   ]
  }
 ],
 "metadata": {
  "kernelspec": {
   "display_name": "venv",
   "language": "python",
   "name": "python3"
  },
  "language_info": {
   "codemirror_mode": {
    "name": "ipython",
    "version": 3
   },
   "file_extension": ".py",
   "mimetype": "text/x-python",
   "name": "python",
   "nbconvert_exporter": "python",
   "pygments_lexer": "ipython3",
   "version": "3.10.6"
  }
 },
 "nbformat": 4,
 "nbformat_minor": 2
}
